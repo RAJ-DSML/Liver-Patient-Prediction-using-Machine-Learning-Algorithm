{
 "cells": [
  {
   "cell_type": "code",
   "execution_count": 1,
   "id": "b30a937b",
   "metadata": {},
   "outputs": [],
   "source": [
    "# basic data presentation libraries\n",
    "import numpy as np\n",
    "import pandas as pd\n",
    "import matplotlib.pyplot as plt\n",
    "import seaborn as sns\n",
    "\n",
    "# label encoder\n",
    "from sklearn.preprocessing import LabelEncoder\n",
    "\n",
    "# train-test-split & hyperparameter tuning parameters\n",
    "from sklearn.model_selection import train_test_split, GridSearchCV, cross_validate\n",
    "\n",
    "# models (ML Algo)\n",
    "from sklearn.linear_model import LogisticRegression\n",
    "from sklearn.ensemble import RandomForestClassifier\n",
    "from xgboost import XGBClassifier\n",
    "\n",
    "# evaluation metrics\n",
    "from sklearn.metrics import confusion_matrix, accuracy_score, classification_report\n",
    "\n",
    "# warnings \n",
    "import warnings \n",
    "warnings.filterwarnings('ignore')"
   ]
  },
  {
   "cell_type": "markdown",
   "id": "25d8969b",
   "metadata": {},
   "source": [
    "### Read the DataSet"
   ]
  },
  {
   "cell_type": "code",
   "execution_count": 2,
   "id": "15a87f22",
   "metadata": {},
   "outputs": [
    {
     "data": {
      "text/html": [
       "<div>\n",
       "<style scoped>\n",
       "    .dataframe tbody tr th:only-of-type {\n",
       "        vertical-align: middle;\n",
       "    }\n",
       "\n",
       "    .dataframe tbody tr th {\n",
       "        vertical-align: top;\n",
       "    }\n",
       "\n",
       "    .dataframe thead th {\n",
       "        text-align: right;\n",
       "    }\n",
       "</style>\n",
       "<table border=\"1\" class=\"dataframe\">\n",
       "  <thead>\n",
       "    <tr style=\"text-align: right;\">\n",
       "      <th></th>\n",
       "      <th>Age</th>\n",
       "      <th>Gender</th>\n",
       "      <th>TB</th>\n",
       "      <th>DB</th>\n",
       "      <th>Alkphos</th>\n",
       "      <th>Sgpt</th>\n",
       "      <th>Sgot</th>\n",
       "      <th>TP</th>\n",
       "      <th>ALB</th>\n",
       "      <th>A/G</th>\n",
       "      <th>Selector</th>\n",
       "    </tr>\n",
       "  </thead>\n",
       "  <tbody>\n",
       "    <tr>\n",
       "      <th>0</th>\n",
       "      <td>65</td>\n",
       "      <td>Female</td>\n",
       "      <td>0.7</td>\n",
       "      <td>0.1</td>\n",
       "      <td>187</td>\n",
       "      <td>16</td>\n",
       "      <td>18</td>\n",
       "      <td>6.8</td>\n",
       "      <td>3.3</td>\n",
       "      <td>0.90</td>\n",
       "      <td>1</td>\n",
       "    </tr>\n",
       "    <tr>\n",
       "      <th>1</th>\n",
       "      <td>62</td>\n",
       "      <td>Male</td>\n",
       "      <td>10.9</td>\n",
       "      <td>5.5</td>\n",
       "      <td>699</td>\n",
       "      <td>64</td>\n",
       "      <td>100</td>\n",
       "      <td>7.5</td>\n",
       "      <td>3.2</td>\n",
       "      <td>0.74</td>\n",
       "      <td>1</td>\n",
       "    </tr>\n",
       "    <tr>\n",
       "      <th>2</th>\n",
       "      <td>62</td>\n",
       "      <td>Male</td>\n",
       "      <td>7.3</td>\n",
       "      <td>4.1</td>\n",
       "      <td>490</td>\n",
       "      <td>60</td>\n",
       "      <td>68</td>\n",
       "      <td>7.0</td>\n",
       "      <td>3.3</td>\n",
       "      <td>0.89</td>\n",
       "      <td>1</td>\n",
       "    </tr>\n",
       "    <tr>\n",
       "      <th>3</th>\n",
       "      <td>58</td>\n",
       "      <td>Male</td>\n",
       "      <td>1.0</td>\n",
       "      <td>0.4</td>\n",
       "      <td>182</td>\n",
       "      <td>14</td>\n",
       "      <td>20</td>\n",
       "      <td>6.8</td>\n",
       "      <td>3.4</td>\n",
       "      <td>1.00</td>\n",
       "      <td>1</td>\n",
       "    </tr>\n",
       "    <tr>\n",
       "      <th>4</th>\n",
       "      <td>72</td>\n",
       "      <td>Male</td>\n",
       "      <td>3.9</td>\n",
       "      <td>2.0</td>\n",
       "      <td>195</td>\n",
       "      <td>27</td>\n",
       "      <td>59</td>\n",
       "      <td>7.3</td>\n",
       "      <td>2.4</td>\n",
       "      <td>0.40</td>\n",
       "      <td>1</td>\n",
       "    </tr>\n",
       "  </tbody>\n",
       "</table>\n",
       "</div>"
      ],
      "text/plain": [
       "   Age  Gender    TB   DB  Alkphos  Sgpt  Sgot   TP  ALB   A/G  Selector\n",
       "0   65  Female   0.7  0.1      187    16    18  6.8  3.3  0.90         1\n",
       "1   62    Male  10.9  5.5      699    64   100  7.5  3.2  0.74         1\n",
       "2   62    Male   7.3  4.1      490    60    68  7.0  3.3  0.89         1\n",
       "3   58    Male   1.0  0.4      182    14    20  6.8  3.4  1.00         1\n",
       "4   72    Male   3.9  2.0      195    27    59  7.3  2.4  0.40         1"
      ]
     },
     "execution_count": 2,
     "metadata": {},
     "output_type": "execute_result"
    }
   ],
   "source": [
    "df_lp = pd.read_csv(\"Indian Liver Patient Dataset.csv\")\n",
    "df_lp.head()"
   ]
  },
  {
   "cell_type": "code",
   "execution_count": 3,
   "id": "d9e1d4ec",
   "metadata": {},
   "outputs": [
    {
     "data": {
      "text/plain": [
       "(583, 11)"
      ]
     },
     "execution_count": 3,
     "metadata": {},
     "output_type": "execute_result"
    }
   ],
   "source": [
    "# shape of the data\n",
    "df_lp.shape"
   ]
  },
  {
   "cell_type": "code",
   "execution_count": 4,
   "id": "9c8d0be1",
   "metadata": {},
   "outputs": [
    {
     "name": "stdout",
     "output_type": "stream",
     "text": [
      "<class 'pandas.core.frame.DataFrame'>\n",
      "RangeIndex: 583 entries, 0 to 582\n",
      "Data columns (total 11 columns):\n",
      " #   Column    Non-Null Count  Dtype  \n",
      "---  ------    --------------  -----  \n",
      " 0   Age       583 non-null    int64  \n",
      " 1   Gender    583 non-null    object \n",
      " 2   TB        583 non-null    float64\n",
      " 3   DB        583 non-null    float64\n",
      " 4   Alkphos   583 non-null    int64  \n",
      " 5   Sgpt      583 non-null    int64  \n",
      " 6   Sgot      583 non-null    int64  \n",
      " 7   TP        583 non-null    float64\n",
      " 8   ALB       583 non-null    float64\n",
      " 9   A/G       579 non-null    float64\n",
      " 10  Selector  583 non-null    int64  \n",
      "dtypes: float64(5), int64(5), object(1)\n",
      "memory usage: 50.2+ KB\n"
     ]
    }
   ],
   "source": [
    "# information about the data set\n",
    "df_lp.info()"
   ]
  },
  {
   "cell_type": "markdown",
   "id": "9092501b",
   "metadata": {},
   "source": [
    "**There is total 11 features(columns) in the data set.**"
   ]
  },
  {
   "cell_type": "code",
   "execution_count": 5,
   "id": "5bcc890e",
   "metadata": {},
   "outputs": [
    {
     "data": {
      "text/plain": [
       "Age         0\n",
       "Gender      0\n",
       "TB          0\n",
       "DB          0\n",
       "Alkphos     0\n",
       "Sgpt        0\n",
       "Sgot        0\n",
       "TP          0\n",
       "ALB         0\n",
       "A/G         4\n",
       "Selector    0\n",
       "dtype: int64"
      ]
     },
     "execution_count": 5,
     "metadata": {},
     "output_type": "execute_result"
    }
   ],
   "source": [
    "# checking total null values\n",
    "df_lp.isnull().sum()"
   ]
  },
  {
   "cell_type": "markdown",
   "id": "36202ef9",
   "metadata": {},
   "source": [
    "**A/G** columns having 4 null values, let's see how can we fix it."
   ]
  },
  {
   "cell_type": "code",
   "execution_count": 6,
   "id": "00496597",
   "metadata": {},
   "outputs": [
    {
     "data": {
      "image/png": "[encoded data removed]",
      "text/plain": [
       "<Figure size 640x480 with 1 Axes>"
      ]
     },
     "metadata": {},
     "output_type": "display_data"
    }
   ],
   "source": [
    "# check the distribution of A/G\n",
    "sns.boxplot(df_lp['A/G'])\n",
    "plt.show()"
   ]
  },
  {
   "cell_type": "markdown",
   "id": "b4e6b432",
   "metadata": {},
   "source": [
    "**A/G** columns contain some outliers so, we can replace the missing values with the median."
   ]
  },
  {
   "cell_type": "code",
   "execution_count": 7,
   "id": "92b48890",
   "metadata": {},
   "outputs": [
    {
     "data": {
      "text/plain": [
       "Age         0\n",
       "Gender      0\n",
       "TB          0\n",
       "DB          0\n",
       "Alkphos     0\n",
       "Sgpt        0\n",
       "Sgot        0\n",
       "TP          0\n",
       "ALB         0\n",
       "A/G         0\n",
       "Selector    0\n",
       "dtype: int64"
      ]
     },
     "execution_count": 7,
     "metadata": {},
     "output_type": "execute_result"
    }
   ],
   "source": [
    "# replaceing the missing values with median\n",
    "df_lp['A/G'] = df_lp['A/G'].replace(to_replace = np.NaN, value = df_lp['A/G'].median())\n",
    "df_lp.isnull().sum()"
   ]
  },
  {
   "cell_type": "code",
   "execution_count": null,
   "id": "bc9e3fd8",
   "metadata": {},
   "outputs": [],
   "source": []
  }
 ],
 "metadata": {
  "kernelspec": {
   "display_name": "Python 3",
   "language": "python",
   "name": "python3"
  },
  "language_info": {
   "codemirror_mode": {
    "name": "ipython",
    "version": 3
   },
   "file_extension": ".py",
   "mimetype": "text/x-python",
   "name": "python",
   "nbconvert_exporter": "python",
   "pygments_lexer": "ipython3",
   "version": "3.8.0"
  }
 },
 "nbformat": 4,
 "nbformat_minor": 5
}
